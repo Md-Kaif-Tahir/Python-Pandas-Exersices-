{
 "cells": [
  {
   "cell_type": "code",
   "execution_count": 1,
   "metadata": {},
   "outputs": [],
   "source": [
    "import numpy as np\n",
    "import pandas as pd"
   ]
  },
  {
   "cell_type": "markdown",
   "metadata": {},
   "source": [
    "1. Write a Pandas program to display the default index and set a column as an Index in a given dataframe."
   ]
  },
  {
   "cell_type": "code",
   "execution_count": 2,
   "metadata": {},
   "outputs": [
    {
     "name": "stdout",
     "output_type": "stream",
     "text": [
      "Default Index:\n",
      "  school_code class            name date_Of_Birth  weight  address t_id\n",
      "0        s001     V  Alberto Franco    15/05/2002      35  street1   t1\n",
      "1        s002     V    Gino Mcneill    17/05/2002      32  street2   t2\n",
      "2        s003    VI     Ryan Parkes    16/02/1999      33  street3   t3\n",
      "3        s001    VI    Eesha Hinton    25/09/1998      30  street1   t4\n",
      "4        s002     V    Gino Mcneill    11/05/2002      31  street2   t5\n",
      "5        s004    VI    David Parkes    15/09/1997      32  street4   t6\n",
      "\n",
      "school_code as new Index:\n",
      "            class            name date_Of_Birth  weight  address t_id\n",
      "school_code                                                          \n",
      "s001            V  Alberto Franco    15/05/2002      35  street1   t1\n",
      "s002            V    Gino Mcneill    17/05/2002      32  street2   t2\n",
      "s003           VI     Ryan Parkes    16/02/1999      33  street3   t3\n",
      "s001           VI    Eesha Hinton    25/09/1998      30  street1   t4\n",
      "s002            V    Gino Mcneill    11/05/2002      31  street2   t5\n",
      "s004           VI    David Parkes    15/09/1997      32  street4   t6\n",
      "\n",
      "t_id as new Index:\n",
      "     school_code class            name date_Of_Birth  weight  address\n",
      "t_id                                                                 \n",
      "t1          s001     V  Alberto Franco    15/05/2002      35  street1\n",
      "t2          s002     V    Gino Mcneill    17/05/2002      32  street2\n",
      "t3          s003    VI     Ryan Parkes    16/02/1999      33  street3\n",
      "t4          s001    VI    Eesha Hinton    25/09/1998      30  street1\n",
      "t5          s002     V    Gino Mcneill    11/05/2002      31  street2\n",
      "t6          s004    VI    David Parkes    15/09/1997      32  street4\n"
     ]
    }
   ],
   "source": [
    "df = pd.DataFrame({\n",
    "    'school_code': ['s001','s002','s003','s001','s002','s004'],\n",
    "    'class': ['V', 'V', 'VI', 'VI', 'V', 'VI'],\n",
    "    'name': ['Alberto Franco','Gino Mcneill','Ryan Parkes', 'Eesha Hinton', 'Gino Mcneill', 'David Parkes'],\n",
    "    'date_Of_Birth': ['15/05/2002','17/05/2002','16/02/1999','25/09/1998','11/05/2002','15/09/1997'],\n",
    "    'weight': [35, 32, 33, 30, 31, 32],\n",
    "    'address': ['street1', 'street2', 'street3', 'street1', 'street2', 'street4'],\n",
    "    't_id':['t1', 't2', 't3', 't4', 't5', 't6']})\n",
    "print(\"Default Index:\")\n",
    "print(df.head(10))\n",
    "print(\"\\nschool_code as new Index:\")\n",
    "df1 =df.set_index(\"school_code\")\n",
    "print(df1)\n",
    "print(\"\\nt_id as new Index:\")\n",
    "df2 = df.set_index(\"t_id\")\n",
    "print(df2)"
   ]
  },
  {
   "cell_type": "markdown",
   "metadata": {},
   "source": [
    "2. Write a Pandas program to create a multi Index frame using two columns and using an Index and a column."
   ]
  },
  {
   "cell_type": "code",
   "execution_count": 3,
   "metadata": {},
   "outputs": [
    {
     "name": "stdout",
     "output_type": "stream",
     "text": [
      "Original DataFrame:\n",
      "  school_code class            name date_Of_Birth  weight  address t_id\n",
      "0        s001     V  Alberto Franco    15/05/2002      35  street1   t1\n",
      "1        s002     V    Gino Mcneill    17/05/2002      32  street2   t2\n",
      "2        s003    VI     Ryan Parkes    16/02/1999      33  street3   t3\n",
      "3        s001    VI    Eesha Hinton    25/09/1998      30  street1   t4\n",
      "4        s002     V    Gino Mcneill    11/05/2002      31  street2   t5\n",
      "5        s004    VI    David Parkes    15/09/1997      32  street4   t6\n",
      "\n",
      "MultiIndex using columns 't_id' and 'school_code':\n",
      "                 class            name date_Of_Birth  weight  address\n",
      "t_id school_code                                                     \n",
      "t1   s001            V  Alberto Franco    15/05/2002      35  street1\n",
      "t2   s002            V    Gino Mcneill    17/05/2002      32  street2\n",
      "t3   s003           VI     Ryan Parkes    16/02/1999      33  street3\n",
      "t4   s001           VI    Eesha Hinton    25/09/1998      30  street1\n",
      "t5   s002            V    Gino Mcneill    11/05/2002      31  street2\n",
      "t6   s004           VI    David Parkes    15/09/1997      32  street4\n"
     ]
    }
   ],
   "source": [
    "df = pd.DataFrame({\n",
    "    'school_code': ['s001','s002','s003','s001','s002','s004'],\n",
    "    'class': ['V', 'V', 'VI', 'VI', 'V', 'VI'],\n",
    "    'name': ['Alberto Franco','Gino Mcneill','Ryan Parkes', 'Eesha Hinton', 'Gino Mcneill', 'David Parkes'],\n",
    "    'date_Of_Birth': ['15/05/2002','17/05/2002','16/02/1999','25/09/1998','11/05/2002','15/09/1997'],\n",
    "    'weight': [35, 32, 33, 30, 31, 32],\n",
    "    'address': ['street1', 'street2', 'street3', 'street1', 'street2', 'street4'],\n",
    "    't_id':['t1', 't2', 't3', 't4', 't5', 't6']})\n",
    "print(\"Original DataFrame:\")\n",
    "print(df)\n",
    "print(\"\\nMultiIndex using columns 't_id' and 'school_code':\")\n",
    "df1 = df.set_index(['t_id', 'school_code'])\n",
    "print(df1)"
   ]
  },
  {
   "cell_type": "markdown",
   "metadata": {},
   "source": [
    "3. Write a Pandas program to display the default index and set a column as an Index in a given dataframe and then reset the index."
   ]
  },
  {
   "cell_type": "code",
   "execution_count": 4,
   "metadata": {},
   "outputs": [
    {
     "name": "stdout",
     "output_type": "stream",
     "text": [
      "Default Index:\n",
      "  school_code class            name date_Of_Birth  weight  address t_id\n",
      "0        s001     V  Alberto Franco    15/05/2002      35  street1   t1\n",
      "1        s002     V    Gino Mcneill    17/05/2002      32  street2   t2\n",
      "2        s003    VI     Ryan Parkes    16/02/1999      33  street3   t3\n",
      "3        s001    VI    Eesha Hinton    25/09/1998      30  street1   t4\n",
      "4        s002     V    Gino Mcneill    11/05/2002      31  street2   t5\n",
      "5        s004    VI    David Parkes    15/09/1997      32  street4   t6\n",
      "\n",
      "t_id as new Index:\n",
      "     school_code class            name date_Of_Birth  weight  address\n",
      "t_id                                                                 \n",
      "t1          s001     V  Alberto Franco    15/05/2002      35  street1\n",
      "t2          s002     V    Gino Mcneill    17/05/2002      32  street2\n",
      "t3          s003    VI     Ryan Parkes    16/02/1999      33  street3\n",
      "t4          s001    VI    Eesha Hinton    25/09/1998      30  street1\n",
      "t5          s002     V    Gino Mcneill    11/05/2002      31  street2\n",
      "t6          s004    VI    David Parkes    15/09/1997      32  street4\n",
      "\n",
      "Reset the index:\n",
      "  t_id school_code class            name date_Of_Birth  weight  address\n",
      "0   t1        s001     V  Alberto Franco    15/05/2002      35  street1\n",
      "1   t2        s002     V    Gino Mcneill    17/05/2002      32  street2\n",
      "2   t3        s003    VI     Ryan Parkes    16/02/1999      33  street3\n",
      "3   t4        s001    VI    Eesha Hinton    25/09/1998      30  street1\n",
      "4   t5        s002     V    Gino Mcneill    11/05/2002      31  street2\n",
      "5   t6        s004    VI    David Parkes    15/09/1997      32  street4\n"
     ]
    }
   ],
   "source": [
    "df = pd.DataFrame({\n",
    "    'school_code': ['s001','s002','s003','s001','s002','s004'],\n",
    "    'class': ['V', 'V', 'VI', 'VI', 'V', 'VI'],\n",
    "    'name': ['Alberto Franco','Gino Mcneill','Ryan Parkes', 'Eesha Hinton', 'Gino Mcneill', 'David Parkes'],\n",
    "    'date_Of_Birth': ['15/05/2002','17/05/2002','16/02/1999','25/09/1998','11/05/2002','15/09/1997'],\n",
    "    'weight': [35, 32, 33, 30, 31, 32],\n",
    "    'address': ['street1', 'street2', 'street3', 'street1', 'street2', 'street4'],\n",
    "    't_id':['t1', 't2', 't3', 't4', 't5', 't6']})\n",
    "print(\"Default Index:\")\n",
    "print(df.head(10))\n",
    "print(\"\\nt_id as new Index:\")\n",
    "df1 = df.set_index(\"t_id\")\n",
    "print(df1)\n",
    "print(\"\\nReset the index:\")\n",
    "df2 = df1.reset_index(inplace=False)\n",
    "print(df2)"
   ]
  },
  {
   "cell_type": "markdown",
   "metadata": {},
   "source": [
    "4. Write a Pandas program to create an index labels by using 64-bit integers, using floating-point numbers in a given dataframe."
   ]
  },
  {
   "cell_type": "code",
   "execution_count": 5,
   "metadata": {},
   "outputs": [
    {
     "name": "stdout",
     "output_type": "stream",
     "text": [
      "  school_code class            name date_Of_Birth  weight  address\n",
      "1        s001     V  Alberto Franco    15/05/2002      35  street1\n",
      "2        s002     V    Gino Mcneill    17/05/2002      32  street2\n",
      "3        s003    VI     Ryan Parkes    16/02/1999      33  street3\n",
      "4        s001    VI    Eesha Hinton    25/09/1998      30  street1\n",
      "5        s002     V    Gino Mcneill    11/05/2002      31  street2\n",
      "6        s004    VI    David Parkes    15/09/1997      32  street4\n",
      "\n",
      "View the Index:\n",
      "Int64Index([1, 2, 3, 4, 5, 6], dtype='int64')\n",
      "\n",
      "Floating-point labels using Float64Index:\n",
      "    school_code class            name date_Of_Birth   weight  address\n",
      "0.1        s001     V  Alberto Franco     15/05/2002      35  street1\n",
      "0.2        s002     V    Gino Mcneill     17/05/2002      32  street2\n",
      "0.3        s003    VI     Ryan Parkes     16/02/1999      33  street3\n",
      "0.4        s001    VI    Eesha Hinton     25/09/1998      30  street1\n",
      "0.5        s002     V    Gino Mcneill     11/05/2002      31  street2\n",
      "0.6        s004    VI    David Parkes     15/09/1997      32  street4\n",
      "\n",
      "View the Index:\n",
      "Float64Index([0.1, 0.2, 0.3, 0.4, 0.5, 0.6], dtype='float64')\n"
     ]
    }
   ],
   "source": [
    "df_i64 = pd.DataFrame({\n",
    "    'school_code': ['s001','s002','s003','s001','s002','s004'],\n",
    "    'class': ['V', 'V', 'VI', 'VI', 'V', 'VI'],\n",
    "    'name': ['Alberto Franco','Gino Mcneill','Ryan Parkes', 'Eesha Hinton', 'Gino Mcneill', 'David Parkes'],\n",
    "    'date_Of_Birth': ['15/05/2002','17/05/2002','16/02/1999','25/09/1998','11/05/2002','15/09/1997'],\n",
    "    'weight': [35, 32, 33, 30, 31, 32],\n",
    "    'address': ['street1', 'street2', 'street3', 'street1', 'street2', 'street4']},\n",
    "    index=[1, 2, 3, 4, 5, 6])\n",
    "print(df_i64)\n",
    "print(\"\\nView the Index:\")\n",
    "print(df_i64.index)\n",
    "\n",
    "print(\"\\nFloating-point labels using Float64Index:\")\n",
    "df_f64 = pd.DataFrame({\n",
    "    'school_code': ['s001','s002','s003','s001','s002','s004'],\n",
    "    'class': ['V', 'V', 'VI', 'VI', 'V', 'VI'],\n",
    "    'name': ['Alberto Franco','Gino Mcneill','Ryan Parkes', 'Eesha Hinton', 'Gino Mcneill', 'David Parkes'],\n",
    "    'date_Of_Birth ': ['15/05/2002','17/05/2002','16/02/1999','25/09/1998','11/05/2002','15/09/1997'],\n",
    "    'weight': [35, 32, 33, 30, 31, 32],\n",
    "    'address': ['street1', 'street2', 'street3', 'street1', 'street2', 'street4']},\n",
    "    index=[.1, .2, .3, .4, .5, .6])\n",
    "print(df_f64)\n",
    "print(\"\\nView the Index:\")\n",
    "print(df_f64.index)"
   ]
  },
  {
   "cell_type": "markdown",
   "metadata": {},
   "source": [
    "5. Write a Pandas program to create a DataFrame using intervals as an index."
   ]
  },
  {
   "cell_type": "code",
   "execution_count": 6,
   "metadata": {},
   "outputs": [
    {
     "name": "stdout",
     "output_type": "stream",
     "text": [
      "Create an Interval Index using IntervalIndex.from_breaks:\n",
      "            X\n",
      "(0.0, 0.5]  1\n",
      "(0.5, 1.0]  2\n",
      "(1.0, 1.5]  3\n",
      "(1.5, 2.0]  4\n",
      "(2.0, 2.5]  5\n",
      "(2.5, 3.0]  6\n",
      "(3.0, 3.5]  7\n",
      "IntervalIndex([(0.0, 0.5], (0.5, 1.0], (1.0, 1.5], (1.5, 2.0], (2.0, 2.5], (2.5, 3.0], (3.0, 3.5]], dtype='interval[float64, right]')\n",
      "\n",
      "Create an Interval Index using IntervalIndex.from_tuples:\n",
      "            X\n",
      "(0.0, 0.5]  1\n",
      "(0.5, 1.0]  2\n",
      "(1.0, 1.5]  3\n",
      "(1.5, 2.0]  4\n",
      "(2.0, 2.5]  5\n",
      "(2.5, 3.0]  6\n",
      "(3.0, 3.5]  7\n",
      "IntervalIndex([(0.0, 0.5], (0.5, 1.0], (1.0, 1.5], (1.5, 2.0], (2.0, 2.5], (2.5, 3.0], (3.0, 3.5]], dtype='interval[float64, right]')\n",
      "\n",
      "Create an Interval Index using IntervalIndex.from_arrays:\n",
      "            X\n",
      "(0.0, 0.5]  1\n",
      "(0.5, 1.0]  2\n",
      "(1.0, 1.5]  3\n",
      "(1.5, 2.0]  4\n",
      "(2.0, 2.5]  5\n",
      "(2.5, 3.0]  6\n",
      "(3.0, 3.5]  7\n",
      "IntervalIndex([(0.0, 0.5], (0.5, 1.0], (1.0, 1.5], (1.5, 2.0], (2.0, 2.5], (2.5, 3.0], (3.0, 3.5]], dtype='interval[float64, right]')\n"
     ]
    }
   ],
   "source": [
    "print(\"Create an Interval Index using IntervalIndex.from_breaks:\")\n",
    "df_interval = pd.DataFrame({\"X\":[1, 2, 3, 4, 5, 6, 7]},\n",
    "                            index = pd.IntervalIndex.from_breaks(\n",
    "                            [0, 0.5, 1.0, 1.5, 2.0, 2.5, 3, 3.5]))    \n",
    "print(df_interval)\n",
    "print(df_interval.index)\n",
    "\n",
    "print(\"\\nCreate an Interval Index using IntervalIndex.from_tuples:\")\n",
    "df_interval = pd.DataFrame({\"X\":[1, 2, 3, 4, 5, 6, 7]},             \n",
    "                            index = pd.IntervalIndex.from_tuples(\n",
    "                            [(0, .5), (.5, 1), (1, 1.5), (1.5, 2), (2, 2.5), (2.5, 3), (3, 3.5)]))\n",
    "print(df_interval)\n",
    "print(df_interval.index)\n",
    "\n",
    "print(\"\\nCreate an Interval Index using IntervalIndex.from_arrays:\")\n",
    "df_interval = pd.DataFrame({\"X\":[1, 2, 3, 4, 5, 6, 7]},             \n",
    "                            index = pd.IntervalIndex.from_arrays(\n",
    "                            [0, .5, 1, 1.5, 2, 2.5, 3], [.5, 1, 1.5, 2, 2.5, 3, 3.5]))\n",
    "print(df_interval)\n",
    "print(df_interval.index) "
   ]
  },
  {
   "cell_type": "markdown",
   "metadata": {},
   "source": [
    "6. Write a Pandas program to create a dataframe indexing by date and time."
   ]
  },
  {
   "cell_type": "code",
   "execution_count": null,
   "metadata": {},
   "outputs": [],
   "source": [
    "print(\"Create a dataframe, indexing by date and time:\")\n",
    "\n",
    "dt_range = pd.date_range(start ='2020-05-12 07:10:10', freq ='S', periods = 10) \n",
    "df_dt = pd.DataFrame({\"Sale_amt\":[100, 110, 117, 150, 112, 99, 129, 135, 140, 150]},\n",
    "                            index = dt_range)\n",
    "print(df_dt)"
   ]
  },
  {
   "cell_type": "markdown",
   "metadata": {},
   "source": [
    "7. Write a Pandas program to create a dataframe and set a title or name of the index column."
   ]
  },
  {
   "cell_type": "code",
   "execution_count": 7,
   "metadata": {},
   "outputs": [
    {
     "name": "stdout",
     "output_type": "stream",
     "text": [
      "Original DataFrame:\n",
      "   school_code class            name date_Of_Birth  weight  address\n",
      "t1        s001     V  Alberto Franco    15/05/2002      35  street1\n",
      "t2        s002     V    Gino Mcneill    17/05/2002      32  street2\n",
      "t3        s003    VI     Ryan Parkes    16/02/1999      33  street3\n",
      "t4        s001    VI    Eesha Hinton    25/09/1998      30  street1\n",
      "t5        s002     V    Gino Mcneill    11/05/2002      31  street2\n",
      "t6        s004    VI    David Parkes    15/09/1997      32  street4\n",
      "\n",
      "Said DataFrame with a title or name of the index column:\n",
      "           school_code class            name date_Of_Birth  weight  address\n",
      "Index_name                                                                 \n",
      "t1                s001     V  Alberto Franco    15/05/2002      35  street1\n",
      "t2                s002     V    Gino Mcneill    17/05/2002      32  street2\n",
      "t3                s003    VI     Ryan Parkes    16/02/1999      33  street3\n",
      "t4                s001    VI    Eesha Hinton    25/09/1998      30  street1\n",
      "t5                s002     V    Gino Mcneill    11/05/2002      31  street2\n",
      "t6                s004    VI    David Parkes    15/09/1997      32  street4\n"
     ]
    }
   ],
   "source": [
    "df = pd.DataFrame({\n",
    "    'school_code': ['s001','s002','s003','s001','s002','s004'],\n",
    "    'class': ['V', 'V', 'VI', 'VI', 'V', 'VI'],\n",
    "    'name': ['Alberto Franco','Gino Mcneill','Ryan Parkes', 'Eesha Hinton', 'Gino Mcneill', 'David Parkes'],\n",
    "    'date_Of_Birth': ['15/05/2002','17/05/2002','16/02/1999','25/09/1998','11/05/2002','15/09/1997'],\n",
    "    'weight': [35, 32, 33, 30, 31, 32],\n",
    "    'address': ['street1', 'street2', 'street3', 'street1', 'street2', 'street4']},\n",
    "                                index = ['t1', 't2', 't3', 't4', 't5', 't6'])\n",
    "print(\"Original DataFrame:\")\n",
    "print(df)\n",
    "df.index.name = 'Index_name'\n",
    "print(\"\\nSaid DataFrame with a title or name of the index column:\")\n",
    "print(df)"
   ]
  },
  {
   "cell_type": "markdown",
   "metadata": {},
   "source": [
    "8. Write a Pandas program to set value in a specific cell in a given dataframe using index."
   ]
  },
  {
   "cell_type": "code",
   "execution_count": 8,
   "metadata": {},
   "outputs": [
    {
     "name": "stdout",
     "output_type": "stream",
     "text": [
      "Original DataFrame:\n",
      "   school_code class            name date_of_birth  weight\n",
      "t1        s001     V  Alberto Franco    15/05/2002      35\n",
      "t2        s002     V    Gino Mcneill    17/05/2002      32\n",
      "t3        s003    VI     Ryan Parkes    16/02/1999      33\n",
      "t4        s001    VI    Eesha Hinton    25/09/1998      30\n",
      "t5        s002     V    Gino Mcneill    11/05/2002      31\n",
      "t6        s004    VI    David Parkes    15/09/1997      32\n",
      "\n",
      "Set school code 's004' to 's005':\n",
      "   school_code class            name date_of_birth  weight\n",
      "t1        s001     V  Alberto Franco    15/05/2002      35\n",
      "t2        s002     V    Gino Mcneill    17/05/2002      32\n",
      "t3        s003    VI     Ryan Parkes    16/02/1999      33\n",
      "t4        s001    VI    Eesha Hinton    25/09/1998      30\n",
      "t5        s002     V    Gino Mcneill    11/05/2002      31\n",
      "t6        s005    VI    David Parkes    15/09/1997      32\n",
      "\n",
      "Set date_of_birth of 'Alberto Franco' to '16/05/2002':\n",
      "   school_code class            name date_of_birth  weight\n",
      "t1        s001     V  Alberto Franco    16/05/2002      35\n",
      "t2        s002     V    Gino Mcneill    17/05/2002      32\n",
      "t3        s003    VI     Ryan Parkes    16/02/1999      33\n",
      "t4        s001    VI    Eesha Hinton    25/09/1998      30\n",
      "t5        s002     V    Gino Mcneill    11/05/2002      31\n",
      "t6        s005    VI    David Parkes    15/09/1997      32\n"
     ]
    }
   ],
   "source": [
    "df = pd.DataFrame({\n",
    "    'school_code': ['s001','s002','s003','s001','s002','s004'],\n",
    "    'class': ['V', 'V', 'VI', 'VI', 'V', 'VI'],\n",
    "    'name': ['Alberto Franco','Gino Mcneill','Ryan Parkes', 'Eesha Hinton', 'Gino Mcneill', 'David Parkes'],\n",
    "    'date_of_birth': ['15/05/2002','17/05/2002','16/02/1999','25/09/1998','11/05/2002','15/09/1997'],\n",
    "    'weight': [35, 32, 33, 30, 31, 32]},\n",
    "     index = ['t1', 't2', 't3', 't4', 't5', 't6'])\n",
    "print(\"Original DataFrame:\")\n",
    "print(df)\n",
    "print(\"\\nSet school code 's004' to 's005':\")\n",
    "df.at[\"t6\", \"school_code\"] = \"s005\"\n",
    "print(df)\n",
    "print(\"\\nSet date_of_birth of 'Alberto Franco' to '16/05/2002':\")\n",
    "df.at['t1', 'date_of_birth'] = \"16/05/2002\"\n",
    "print(df)"
   ]
  },
  {
   "cell_type": "markdown",
   "metadata": {},
   "source": [
    "9. Write a Pandas program to convert index of a given dataframe into a column."
   ]
  },
  {
   "cell_type": "code",
   "execution_count": null,
   "metadata": {},
   "outputs": [],
   "source": [
    "df = pd.DataFrame({\n",
    "    'school_code': ['s001','s002','s003','s001','s002','s004'],\n",
    "    'class': ['V', 'V', 'VI', 'VI', 'V', 'VI'],\n",
    "    'name': ['Alberto Franco','Gino Mcneill','Ryan Parkes', 'Eesha Hinton', 'Gino Mcneill', 'David Parkes'],\n",
    "    'date_of_birth': ['15/05/2002','17/05/2002','16/02/1999','25/09/1998','11/05/2002','15/09/1997'],\n",
    "    'weight': [35, 32, 33, 30, 31, 32]},\n",
    "     index = ['t1', 't2', 't3', 't4', 't5', 't6'])\n",
    "print(\"Original DataFrame:\")\n",
    "print(df)\n",
    "print(\"\\nConvert index of the said dataframe into a column:\")\n",
    "df.reset_index(level=0, inplace=True)\n",
    "print(df)\n"
   ]
  },
  {
   "cell_type": "markdown",
   "metadata": {},
   "source": [
    "10. Write a Pandas program to convert 1st and 3rd levels in the index into columns from a multiple level of index frame of a given dataframe."
   ]
  },
  {
   "cell_type": "code",
   "execution_count": null,
   "metadata": {},
   "outputs": [],
   "source": [
    "df = pd.DataFrame({\n",
    "    'school_code': ['s001','s002','s003','s001','s002','s004'],\n",
    "    'class': ['V', 'V', 'VI', 'VI', 'V', 'VI'],\n",
    "    'name': ['Alberto Franco','Gino Mcneill','Ryan Parkes', 'Eesha Hinton', 'Gino Mcneill', 'David Parkes'],\n",
    "    'date_of_birth': ['15/05/2002','17/05/2002','16/02/1999','25/09/1998','11/05/2002','15/09/1997'],\n",
    "    'weight': [35, 32, 33, 30, 31, 32],\n",
    "    't_id': ['t1', 't2', 't3', 't4', 't5', 't6']})\n",
    "print(\"Original DataFrame:\")\n",
    "print(df)\n",
    "print(\"\\nMultiIndex using columns 't_id', ‘school_code’ and 'class':\")\n",
    "df1 = df.set_index(['t_id', 'school_code', 'class'])\n",
    "print(df1)\n",
    "print(\"\\nConvert 1st and 3rd levels in the index frame into columns:\")\n",
    "df2 = df1.reset_index(level=['t_id', 'class'])\n",
    "print(df2)"
   ]
  },
  {
   "cell_type": "markdown",
   "metadata": {},
   "source": [
    "11. Write a Pandas program to check if a specified value exists in single and multiple column index dataframe."
   ]
  },
  {
   "cell_type": "code",
   "execution_count": 10,
   "metadata": {},
   "outputs": [
    {
     "name": "stdout",
     "output_type": "stream",
     "text": [
      "Original DataFrame with single index:\n",
      "   school_code class            name date_of_birth  weight\n",
      "t1        s001     V  Alberto Franco    15/05/2002      35\n",
      "t2        s002     V    Gino Mcneill    17/05/2002      32\n",
      "t3        s003    VI     Ryan Parkes    16/02/1999      33\n",
      "t4        s001    VI    Eesha Hinton    25/09/1998      30\n",
      "t5        s002     V    Gino Mcneill    11/05/2002      31\n",
      "t6        s004    VI    David Parkes    15/09/1997      32\n",
      "\n",
      "Check a value is exist in single column index dataframe:\n",
      "True\n",
      "False\n",
      "\n",
      "Create MultiIndex using columns 't_id', ‘school_code’ and 'class':\n",
      "                                  name date_of_birth  weight\n",
      "t_id school_code class                                      \n",
      "t1   s001        V      Alberto Franco    15/05/2002      35\n",
      "t2   s002        V        Gino Mcneill    17/05/2002      32\n",
      "t3   s003        VI        Ryan Parkes    16/02/1999      33\n",
      "t4   s001        VI       Eesha Hinton    25/09/1998      30\n",
      "t5   s002        V        Gino Mcneill    11/05/2002      31\n",
      "t6   s004        VI       David Parkes    15/09/1997      32\n",
      "\n",
      "Check a value is exist in multiple columns index dataframe:\n",
      "True\n",
      "False\n",
      "False\n"
     ]
    }
   ],
   "source": [
    "df = pd.DataFrame({\n",
    "    'school_code': ['s001','s002','s003','s001','s002','s004'],\n",
    "    'class': ['V', 'V', 'VI', 'VI', 'V', 'VI'],\n",
    "    'name': ['Alberto Franco','Gino Mcneill','Ryan Parkes', 'Eesha Hinton', 'Gino Mcneill', 'David Parkes'],\n",
    "    'date_of_birth': ['15/05/2002','17/05/2002','16/02/1999','25/09/1998','11/05/2002','15/09/1997'],\n",
    "    'weight': [35, 32, 33, 30, 31, 32]},\n",
    "     index =  ['t1', 't2', 't3', 't4', 't5', 't6'])\n",
    "print(\"Original DataFrame with single index:\")\n",
    "print(df)\n",
    "print(\"\\nCheck a value is exist in single column index dataframe:\")\n",
    "print('t1' in df.index)\n",
    "print('t11' in df.index)\n",
    "print(\"\\nCreate MultiIndex using columns 't_id', ‘school_code’ and 'class':\")\n",
    "df = pd.DataFrame({\n",
    "    'school_code': ['s001','s002','s003','s001','s002','s004'],\n",
    "    'class': ['V', 'V', 'VI', 'VI', 'V', 'VI'],\n",
    "    'name': ['Alberto Franco','Gino Mcneill','Ryan Parkes', 'Eesha Hinton', 'Gino Mcneill', 'David Parkes'],\n",
    "    'date_of_birth': ['15/05/2002','17/05/2002','16/02/1999','25/09/1998','11/05/2002','15/09/1997'],\n",
    "    'weight': [35, 32, 33, 30, 31, 32],\n",
    "    't_id': ['t1', 't2', 't3', 't4', 't5', 't6']})\n",
    "df1 = df.set_index(['t_id', 'school_code', 'class'])\n",
    "print(df1)\n",
    "print(\"\\nCheck a value is exist in multiple columns index dataframe:\")\n",
    "print('t4' in df1.index.levels[0])\n",
    "print('t4' in df1.index.levels[1])\n",
    "print('t4' in df1.index.levels[2])"
   ]
  },
  {
   "cell_type": "markdown",
   "metadata": {},
   "source": [
    "12. Write a Pandas program to construct a series using the MultiIndex levels as the column and index."
   ]
  },
  {
   "cell_type": "code",
   "execution_count": null,
   "metadata": {},
   "outputs": [],
   "source": []
  },
  {
   "cell_type": "markdown",
   "metadata": {},
   "source": [
    "13. Write a Pandas program to construct a DataFrame using the MultiIndex levels as the column and index."
   ]
  },
  {
   "cell_type": "code",
   "execution_count": null,
   "metadata": {},
   "outputs": [],
   "source": []
  },
  {
   "cell_type": "markdown",
   "metadata": {},
   "source": [
    "19. Write a Pandas program to select a specific row of given series/dataframe by integer index."
   ]
  },
  {
   "cell_type": "code",
   "execution_count": 11,
   "metadata": {},
   "outputs": [
    {
     "name": "stdout",
     "output_type": "stream",
     "text": [
      "Original Series:\n",
      "0     1\n",
      "1     3\n",
      "2     5\n",
      "3     7\n",
      "4     9\n",
      "5    11\n",
      "7    13\n",
      "8    15\n",
      "dtype: int64\n",
      "\n",
      "Print specified row from the said series using location based indexing:\n",
      "\n",
      "Third row:\n",
      "2    5\n",
      "dtype: int64\n",
      "\n",
      "Fifth row:\n",
      "4    9\n",
      "dtype: int64\n",
      "Original DataFrame with single index:\n",
      "  school_code class            name date_of_birth  weight\n",
      "0        s001     V  Alberto Franco    15/05/2002      35\n",
      "1        s002     V    Gino Mcneill    17/05/2002      32\n",
      "2        s003    VI     Ryan Parkes    16/02/1999      33\n",
      "3        s001    VI    Eesha Hinton    25/09/1998      30\n",
      "4        s002     V    Gino Mcneill    11/05/2002      31\n",
      "5        s004    VI    David Parkes    15/09/1997      32\n",
      "\n",
      "Print specified row from the said DataFrame using location based indexing:\n",
      "\n",
      "Third row:\n",
      "  school_code class         name date_of_birth  weight\n",
      "2        s003    VI  Ryan Parkes    16/02/1999      33\n",
      "\n",
      "Fifth row:\n",
      "  school_code class          name date_of_birth  weight\n",
      "4        s002     V  Gino Mcneill    11/05/2002      31\n"
     ]
    }
   ],
   "source": [
    "ds = pd.Series([1,3,5,7,9,11,13,15], index=[0,1,2,3,4,5,7,8])\n",
    "print(\"Original Series:\")\n",
    "print(ds)\n",
    "print(\"\\nPrint specified row from the said series using location based indexing:\")\n",
    "print(\"\\nThird row:\")\n",
    "print(ds.iloc[[2]])\n",
    "print(\"\\nFifth row:\")\n",
    "print(ds.iloc[[4]])\n",
    "df = pd.DataFrame({\n",
    "    'school_code': ['s001','s002','s003','s001','s002','s004'],\n",
    "    'class': ['V', 'V', 'VI', 'VI', 'V', 'VI'],\n",
    "    'name': ['Alberto Franco','Gino Mcneill','Ryan Parkes', 'Eesha Hinton', 'Gino Mcneill', 'David Parkes'],\n",
    "    'date_of_birth': ['15/05/2002','17/05/2002','16/02/1999','25/09/1998','11/05/2002','15/09/1997'],\n",
    "    'weight': [35, 32, 33, 30, 31, 32]\n",
    "})\n",
    "\n",
    "print(\"Original DataFrame with single index:\")\n",
    "print(df)\n",
    "print(\"\\nPrint specified row from the said DataFrame using location based indexing:\")\n",
    "print(\"\\nThird row:\")\n",
    "print(df.iloc[[2]])\n",
    "print(\"\\nFifth row:\")\n",
    "print(df.iloc[[4]])"
   ]
  },
  {
   "cell_type": "markdown",
   "metadata": {},
   "source": [
    "20. Write a Pandas program to find the indexes of rows of a specified value of a given column in a DataFrame."
   ]
  },
  {
   "cell_type": "code",
   "execution_count": 12,
   "metadata": {},
   "outputs": [
    {
     "name": "stdout",
     "output_type": "stream",
     "text": [
      "Original DataFrame with single index:\n",
      "  school_code class            name date_of_birth  weight\n",
      "1        s001     V  Alberto Franco    15/05/2002      35\n",
      "2        s002     V    Gino Mcneill    17/05/2002      32\n",
      "3        s003    VI     Ryan Parkes    16/02/1999      33\n",
      "4        s001    VI    Eesha Hinton    25/09/1998      30\n",
      "5        s002     V    Gino Mcneill    11/05/2002      31\n",
      "6        s004    VI    David Parkes    15/09/1997      32\n",
      "\n",
      "Index of rows where specified column matches certain value:\n",
      "[1, 4]\n"
     ]
    }
   ],
   "source": [
    "df = pd.DataFrame({\n",
    "    'school_code': ['s001','s002','s003','s001','s002','s004'],\n",
    "    'class': ['V', 'V', 'VI', 'VI', 'V', 'VI'],\n",
    "    'name': ['Alberto Franco','Gino Mcneill','Ryan Parkes', 'Eesha Hinton', 'Gino Mcneill', 'David Parkes'],\n",
    "    'date_of_birth': ['15/05/2002','17/05/2002','16/02/1999','25/09/1998','11/05/2002','15/09/1997'],\n",
    "    'weight': [35, 32, 33, 30, 31, 32]},\n",
    "     index =  [1, 2, 3, 4, 5, 6])\n",
    "print(\"Original DataFrame with single index:\")\n",
    "print(df)\n",
    "print(\"\\nIndex of rows where specified column matches certain value:\")\n",
    "print(df.index[df[\"school_code\"]==\"s001\"].tolist())"
   ]
  },
  {
   "cell_type": "markdown",
   "metadata": {},
   "source": [
    "22. Write a Pandas program to insert a column at a specific index in a given DataFrame."
   ]
  },
  {
   "cell_type": "code",
   "execution_count": 15,
   "metadata": {},
   "outputs": [
    {
     "name": "stdout",
     "output_type": "stream",
     "text": [
      "Original DataFrame with single index:\n",
      "  school_code class            name  weight\n",
      "1        s001     V  Alberto Franco      35\n",
      "2        s002     V    Gino Mcneill      32\n",
      "3        s003    VI     Ryan Parkes      33\n",
      "4        s001    VI    Eesha Hinton      30\n",
      "5        s002     V    Gino Mcneill      31\n",
      "6        s004    VI    David Parkes      32\n",
      "\n",
      "Insert 'date_of_birth' column in 3rd position of the said DataFrame:\n",
      "  school_code class            name date_of_birth  weight\n",
      "1        s001     V  Alberto Franco    15/05/2002      35\n",
      "2        s002     V    Gino Mcneill    17/05/2002      32\n",
      "3        s003    VI     Ryan Parkes    16/02/1999      33\n",
      "4        s001    VI    Eesha Hinton    25/09/1998      30\n",
      "5        s002     V    Gino Mcneill    11/05/2002      31\n",
      "6        s004    VI    David Parkes    15/09/1997      32\n"
     ]
    }
   ],
   "source": [
    "df = pd.DataFrame({\n",
    "    'school_code': ['s001','s002','s003','s001','s002','s004'],\n",
    "    'class': ['V', 'V', 'VI', 'VI', 'V', 'VI'],\n",
    "    'name': ['Alberto Franco','Gino Mcneill','Ryan Parkes', 'Eesha Hinton', 'Gino Mcneill', 'David Parkes'],\n",
    "    'weight': [35, 32, 33, 30, 31, 32]},\n",
    "     index =  [1, 2, 3, 4, 5, 6])\n",
    "print(\"Original DataFrame with single index:\")\n",
    "print(df)\n",
    "date_of_birth = ['15/05/2002','17/05/2002','16/02/1999','25/09/1998','11/05/2002','15/09/1997']  \n",
    "idx = 3\n",
    "print(\"\\nInsert 'date_of_birth' column in 3rd position of the said DataFrame:\")\n",
    "df.insert(loc=idx, column='date_of_birth', value=date_of_birth)\n",
    "print(df)"
   ]
  },
  {
   "cell_type": "markdown",
   "metadata": {},
   "source": [
    "23. Write a Pandas program to print a DataFrame without index."
   ]
  },
  {
   "cell_type": "code",
   "execution_count": 16,
   "metadata": {},
   "outputs": [
    {
     "name": "stdout",
     "output_type": "stream",
     "text": [
      "Original DataFrame with single index:\n",
      "  school_code class            name date_of_birth  weight\n",
      "1        s001     V  Alberto Franco    15/05/2002      35\n",
      "2        s002     V    Gino Mcneill    17/05/2002      32\n",
      "3        s003    VI     Ryan Parkes    16/02/1999      33\n",
      "4        s001    VI    Eesha Hinton    25/09/1998      30\n",
      "5        s002     V    Gino Mcneill    11/05/2002      31\n",
      "6        s004    VI    David Parkes    15/09/1997      32\n",
      "\n",
      "DataFrame without index:\n",
      "school_code class           name date_of_birth  weight\n",
      "       s001     V Alberto Franco    15/05/2002      35\n",
      "       s002     V   Gino Mcneill    17/05/2002      32\n",
      "       s003    VI    Ryan Parkes    16/02/1999      33\n",
      "       s001    VI   Eesha Hinton    25/09/1998      30\n",
      "       s002     V   Gino Mcneill    11/05/2002      31\n",
      "       s004    VI   David Parkes    15/09/1997      32\n"
     ]
    }
   ],
   "source": [
    "df = pd.DataFrame({\n",
    "    'school_code': ['s001','s002','s003','s001','s002','s004'],\n",
    "    'class': ['V', 'V', 'VI', 'VI', 'V', 'VI'],\n",
    "    'name': ['Alberto Franco','Gino Mcneill','Ryan Parkes', 'Eesha Hinton', 'Gino Mcneill', 'David Parkes'],\n",
    "    'date_of_birth': ['15/05/2002','17/05/2002','16/02/1999','25/09/1998','11/05/2002','15/09/1997'],\n",
    "    'weight': [35, 32, 33, 30, 31, 32]},\n",
    "     index =  [1, 2, 3, 4, 5, 6])\n",
    "print(\"Original DataFrame with single index:\")\n",
    "print(df)\n",
    "print(\"\\nDataFrame without index:\")\n",
    "print(df.to_string(index=False))"
   ]
  },
  {
   "cell_type": "markdown",
   "metadata": {},
   "source": [
    "24. Write a Pandas program to find integer index of rows with missing data in a given dataframe."
   ]
  },
  {
   "cell_type": "code",
   "execution_count": null,
   "metadata": {},
   "outputs": [],
   "source": [
    "df = pd.DataFrame({\n",
    "    'school_code': ['s001','s002','s003','s001','s002','s004'],\n",
    "    'class': ['V', 'V', 'VI', 'VI', 'V', 'VI'],\n",
    "    'name': ['Alberto Franco','Gino Mcneill','Ryan Parkes', 'Eesha Hinton', 'Gino Mcneill', 'David Parkes'],\n",
    "    'date_of_birth': ['15/05/2002','17/05/2002','16/02/1999','25/09/1998','11/05/2002','15/09/1997'],\n",
    "    'weight': [35, None, 33, 30, 31, None]},\n",
    "     index = ['t1', 't2', 't3', 't4', 't5', 't6'])\n",
    "print(\"Original DataFrame:\")\n",
    "print(df)\n",
    "index = df['weight'].index[df['weight'].apply(np.isnan)]\n",
    "df_index = df.index.values.tolist()\n",
    "print(\"\\nInteger index of rows with missing data in 'weight' column of the said dataframe:\")\n",
    "print([df_index.index(i) for i in index])"
   ]
  },
  {
   "cell_type": "markdown",
   "metadata": {},
   "source": [
    "25. Write a Pandas program to start index with different value rather than 0 in a given DataFrame."
   ]
  },
  {
   "cell_type": "code",
   "execution_count": 17,
   "metadata": {},
   "outputs": [
    {
     "name": "stdout",
     "output_type": "stream",
     "text": [
      "Original DataFrame:\n",
      "  school_code class            name date_of_birth  weight\n",
      "0        s001     V  Alberto Franco    15/05/2002      35\n",
      "1        s002     V    Gino Mcneill    17/05/2002      37\n",
      "2        s003    VI     Ryan Parkes    16/02/1999      33\n",
      "3        s001    VI    Eesha Hinton    25/09/1998      30\n",
      "4        s002     V    Gino Mcneill    11/05/2002      31\n",
      "5        s004    VI    David Parkes    15/09/1997      32\n",
      "\n",
      "Default Index Range:\n",
      "RangeIndex(start=0, stop=6, step=1)\n"
     ]
    }
   ],
   "source": [
    "df = pd.DataFrame({\n",
    "    'school_code': ['s001','s002','s003','s001','s002','s004'],\n",
    "    'class': ['V', 'V', 'VI', 'VI', 'V', 'VI'],\n",
    "    'name': ['Alberto Franco','Gino Mcneill','Ryan Parkes', 'Eesha Hinton', 'Gino Mcneill', 'David Parkes'],\n",
    "    'date_of_birth': ['15/05/2002','17/05/2002','16/02/1999','25/09/1998','11/05/2002','15/09/1997'],\n",
    "    'weight': [35, 37, 33, 30, 31, 32]})\n",
    "     \n",
    "print(\"Original DataFrame:\")\n",
    "print(df)\n",
    "print(\"\\nDefault Index Range:\")\n",
    "print(df.index)\n",
    "df.index += 10\n",
    "print(\"\\nNew Index Range:\")\n",
    "print(df.index)\n",
    "print(\"\\nDataFrame with new index:\")\n",
    "print(df)"
   ]
  },
  {
   "cell_type": "markdown",
   "metadata": {},
   "source": [
    "26. Write a Pandas program to select rows by filtering on one or more column(s) in a multi-index dataframe."
   ]
  },
  {
   "cell_type": "code",
   "execution_count": 18,
   "metadata": {},
   "outputs": [
    {
     "name": "stdout",
     "output_type": "stream",
     "text": [
      "Original DataFrame:\n",
      "  school_code class            name date_of_birth  weight tcode\n",
      "0        s001     V  Alberto Franco    15/05/2002      35    t1\n",
      "1        s002     V    Gino Mcneill    17/05/2002      37    t2\n",
      "2        s003    VI     Ryan Parkes    16/02/1999      33    t3\n",
      "3        s001    VI    Eesha Hinton    25/09/1998      30    t4\n",
      "4        s002     V    Gino Mcneill    11/05/2002      31    t5\n",
      "5        s004    VI    David Parkes    15/09/1997      32    t6\n",
      "\n",
      "Create MultiIndex on 'tcode' and 'school_code':\n",
      "                  class            name date_of_birth  weight\n",
      "tcode school_code                                            \n",
      "t1    s001            V  Alberto Franco    15/05/2002      35\n",
      "t2    s002            V    Gino Mcneill    17/05/2002      37\n",
      "t3    s003           VI     Ryan Parkes    16/02/1999      33\n",
      "t4    s001           VI    Eesha Hinton    25/09/1998      30\n",
      "t5    s002            V    Gino Mcneill    11/05/2002      31\n",
      "t6    s004           VI    David Parkes    15/09/1997      32\n",
      "\n",
      "Select rows(s) from 'tcode' column:\n",
      "                  class          name date_of_birth  weight\n",
      "tcode school_code                                          \n",
      "t2    s002            V  Gino Mcneill    17/05/2002      37\n",
      "\n",
      "Select rows(s) from 'school_code' column:\n",
      "                  class            name date_of_birth  weight\n",
      "tcode school_code                                            \n",
      "t1    s001            V  Alberto Franco    15/05/2002      35\n",
      "t4    s001           VI    Eesha Hinton    25/09/1998      30\n",
      "\n",
      "Select rows(s) from 'tcode' and 'scode' columns:\n",
      "                  class            name date_of_birth  weight\n",
      "tcode school_code                                            \n",
      "t1    s001            V  Alberto Franco    15/05/2002      35\n",
      "t4    s001           VI    Eesha Hinton    25/09/1998      30\n"
     ]
    }
   ],
   "source": [
    "df = pd.DataFrame({\n",
    "    'school_code': ['s001','s002','s003','s001','s002','s004'],\n",
    "    'class': ['V', 'V', 'VI', 'VI', 'V', 'VI'],\n",
    "    'name': ['Alberto Franco','Gino Mcneill','Ryan Parkes', 'Eesha Hinton', 'Gino Mcneill', 'David Parkes'],\n",
    "    'date_of_birth': ['15/05/2002','17/05/2002','16/02/1999','25/09/1998','11/05/2002','15/09/1997'],\n",
    "    'weight': [35, 37, 33, 30, 31, 32],\n",
    "    'tcode': ['t1', 't2', 't3', 't4', 't5', 't6']})    \n",
    "print(\"Original DataFrame:\")\n",
    "print(df)\n",
    "print(\"\\nCreate MultiIndex on 'tcode' and 'school_code':\")\n",
    "df = df.set_index(['tcode', 'school_code'])\n",
    "print(df)\n",
    "print(\"\\nSelect rows(s) from 'tcode' column:\")\n",
    "print(df.query(\"tcode == 't2'\"))\n",
    "print(\"\\nSelect rows(s) from 'school_code' column:\")\n",
    "print(df.query(\"school_code == 's001'\"))\n",
    "print(\"\\nSelect rows(s) from 'tcode' and 'scode' columns:\")\n",
    "print(df.query((\"tcode == 't1'\") and (\"school_code == 's001'\")))"
   ]
  }
 ],
 "metadata": {
  "kernelspec": {
   "display_name": "Python 3.9.13 64-bit (windows store)",
   "language": "python",
   "name": "python3"
  },
  "language_info": {
   "codemirror_mode": {
    "name": "ipython",
    "version": 3
   },
   "file_extension": ".py",
   "mimetype": "text/x-python",
   "name": "python",
   "nbconvert_exporter": "python",
   "pygments_lexer": "ipython3",
   "version": "3.9.13"
  },
  "orig_nbformat": 4,
  "vscode": {
   "interpreter": {
    "hash": "35cc37c584d438c4fc4570bceec30691d1ad7cf10ff0ac55a38f1de1b65c5d1f"
   }
  }
 },
 "nbformat": 4,
 "nbformat_minor": 2
}
